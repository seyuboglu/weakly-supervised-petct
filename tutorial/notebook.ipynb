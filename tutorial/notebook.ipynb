{
 "cells": [
  {
   "cell_type": "markdown",
   "metadata": {},
   "source": [
    "# PET-CT Inference Tutorial\n",
    "Contacts: eyuboglu@stanford.edu, gangus@stanford.edu\n",
    "\n",
    "In this notebook we cover:\n",
    "1. Loading hyperparameters from JSON\n",
    "2. Building a model from those parameters and loading weights\n",
    "3. How proper input should be structured\n",
    "4. How to perform inference on the model\n",
    "5. How output is structured"
   ]
  },
  {
   "cell_type": "markdown",
   "metadata": {},
   "source": [
    "## Setup\n",
    "Import various packages. Make sure you're in an environment with the `pet_ct` package installed."
   ]
  },
  {
   "cell_type": "code",
   "execution_count": 1,
   "metadata": {
    "init_cell": true
   },
   "outputs": [],
   "source": [
    "# import requirements\n",
    "%load_ext autoreload\n",
    "%autoreload 2\n",
    "\n",
    "import os\n",
    "import json\n",
    "\n",
    "import torch\n",
    "\n",
    "import pet_ct.model.models as models\n",
    "from pet_ct.learn.datasets import MTClassifierDataset\n",
    "from pet_ct.learn.dataloaders import MTExamDataLoader\n",
    "from pet_ct.util.util import set_logger"
   ]
  },
  {
   "cell_type": "code",
   "execution_count": 2,
   "metadata": {},
   "outputs": [],
   "source": [
    "# TODO: change to package directory\n",
    "os.chdir(\"/home/eyuboglu/fdg-pet-ct\")\n",
    "\n",
    "# TODO: set path to the tutorial directory relative to the package directory \n",
    "experiment_dir = \"notebooks/tutorial\"\n",
    "set_logger(log_path=os.path.join(experiment_dir, \"process.log\"))"
   ]
  },
  {
   "cell_type": "code",
   "execution_count": 3,
   "metadata": {},
   "outputs": [],
   "source": [
    "# select your CUDA devices if available\n",
    "devices = [3]\n",
    "cuda = True"
   ]
  },
  {
   "cell_type": "markdown",
   "metadata": {},
   "source": [
    "## Loading hyper-parameters\n",
    "We've included a params file at `notebooks/tutorial/params.json`. Please take a quick look at it toget a sense of its structure and what we include in the params\"."
   ]
  },
  {
   "cell_type": "code",
   "execution_count": 4,
   "metadata": {},
   "outputs": [],
   "source": [
    "def load_params(path):\n",
    "    \"\"\"\n",
    "    Loads parameters from .json file at path. \n",
    "    \"\"\"\n",
    "    with open(path) as f:\n",
    "        params = json.load(f)[\"process_args\"]\n",
    "    \n",
    "    # distribute shared params\n",
    "    new_task_configs = []\n",
    "    for task_config in params[\"task_configs\"]:\n",
    "        new_task_config = params[\"default_task_config\"].copy()\n",
    "        new_task_config.update(task_config)\n",
    "        new_task_configs.append(new_task_config)\n",
    "    task_configs = new_task_configs\n",
    "\n",
    "    params[\"model_args\"][\"task_configs\"] = task_configs\n",
    "    params[\"dataset_args\"][\"task_configs\"] = task_configs\n",
    "    \n",
    "    return params\n",
    "\n",
    "params = load_params(os.path.join(experiment_dir, \"params.json\"))"
   ]
  },
  {
   "cell_type": "markdown",
   "metadata": {},
   "source": [
    "# Building a model\n",
    "Let's use the parameters we've loaded to build a model. We'll also load pretrained weights from `notebooks/tutorial/weights.tar`. "
   ]
  },
  {
   "cell_type": "code",
   "execution_count": 5,
   "metadata": {},
   "outputs": [],
   "source": [
    "def build_model(model_class, model_args, weights_path=None):\n",
    "    model_class = getattr(models, model_class)\n",
    "    model = model_class(cuda=cuda, devices=devices, **model_args)\n",
    "    if weights_path is not None: \n",
    "        model.load_weights(weights_path, device=devices[0])\n",
    "    return model"
   ]
  },
  {
   "cell_type": "code",
   "execution_count": 6,
   "metadata": {},
   "outputs": [
    {
     "name": "stderr",
     "output_type": "stream",
     "text": [
      "Loading I3D weights from models/i3d/model_flow.pth\n",
      "Loaded 550/550 pretrained parametersfrom notebooks/tutorial/weights.tar matching 'None'.\n"
     ]
    }
   ],
   "source": [
    "# build model and load weights, you should see 550/550 pretrained params loaded. \n",
    "model = build_model(params[\"model_class\"], \n",
    "                    params[\"model_args\"],\n",
    "                    os.path.join(experiment_dir, \"weights.tar\"))"
   ]
  },
  {
   "cell_type": "markdown",
   "metadata": {},
   "source": [
    "# How to structure inputs?\n",
    "To understand how to structure inputs properly we will load some training examples from our dataset. However, the `MTClassifierDataset` class below is designed for data in our databases at Stanford. You'll likely need to write your own dataset classes for your data. You should use `MTClassifierDataset` as a template."
   ]
  },
  {
   "cell_type": "code",
   "execution_count": 7,
   "metadata": {},
   "outputs": [],
   "source": [
    "# NOTE: this building this dataset will likely not work for you \n",
    "# because you don't have access to our data. \n",
    "# We do so here simply to demonstrate the structure of the data.\n",
    "dataset = MTClassifierDataset(**params[\"dataset_args\"], split=\"test\")"
   ]
  },
  {
   "cell_type": "code",
   "execution_count": 8,
   "metadata": {},
   "outputs": [],
   "source": [
    "dataloader = MTExamDataLoader(dataset=dataset, \n",
    "                              num_workers=1, \n",
    "                              batch_size=1,\n",
    "                              sampler=\"RandomSampler\",\n",
    "                              num_samples=200)\n",
    "iterator = iter(dataloader)"
   ]
  },
  {
   "cell_type": "markdown",
   "metadata": {},
   "source": [
    "Let's load an example from the dataloader and examine its structure. Each PET-CT exam is represented by a torch tensor with 4 axes. There's an additional axis for the mini-batch. Its important that your input to the model also match this structure."
   ]
  },
  {
   "cell_type": "code",
   "execution_count": 14,
   "metadata": {},
   "outputs": [
    {
     "name": "stdout",
     "output_type": "stream",
     "text": [
      "Input shape: torch.Size([1, 205, 224, 224, 2])\n"
     ]
    }
   ],
   "source": [
    "inputs, targets, info = iterator.next()\n",
    "print(f\"Input shape: {inputs.shape}\")"
   ]
  },
  {
   "cell_type": "raw",
   "metadata": {},
   "source": [
    "inputs.size -> torch.Size([1, 205, 224, 224, 2])\n",
    "                           ^   ^    ^    ^   ^\n",
    "                          (0) (1)  (2)  (3) (4)\n",
    "(0) batch size\n",
    "(1) number of slices in scan, bottom (feet) -> top (head) \n",
    "(2) height \n",
    "(3) width\n",
    "(4) two channels: one for PET one for CT "
   ]
  },
  {
   "cell_type": "markdown",
   "metadata": {},
   "source": [
    "# How to make a prediction?\n",
    "Let's pass the inputs through the model using the `model.predict` function and examine the output."
   ]
  },
  {
   "cell_type": "code",
   "execution_count": 15,
   "metadata": {},
   "outputs": [],
   "source": [
    "output = model.predict(inputs)"
   ]
  },
  {
   "cell_type": "markdown",
   "metadata": {},
   "source": [
    "# How is output structured?\n",
    "Let's examine what the model output. "
   ]
  },
  {
   "cell_type": "code",
   "execution_count": 16,
   "metadata": {},
   "outputs": [
    {
     "name": "stdout",
     "output_type": "stream",
     "text": [
      "Output is of type: <class 'dict'>.\n",
      "The keys of the dict are: dict_keys(['full', 'inguinal_lymph_node', 'left_lungs', 'carinal_lymph_node', 'cervical_lymph_node', 'paratracheal_lymph_node', 'right_lungs', 'pelvic_skeleton', 'axillary_lymph_node', 'iliac_lymph_node', 'supraclavicular_lymph_node', 'retroperitoneal_lymph_node', 'mouth', 'liver', 'abdominal_lymph_node', 'hilar_lymph_node', 'pelvis', 'spine', 'lungs', 'head', 'thoracic_lymph_node', 'neck', 'abdomen', 'skeleton', 'head_neck', 'chest'])\n"
     ]
    }
   ],
   "source": [
    "print(f\"Output is of type: {type(output)}.\")\n",
    "print(f\"The keys of the dict are: {output.keys()}\")"
   ]
  },
  {
   "cell_type": "markdown",
   "metadata": {},
   "source": [
    "*Key:* The model outputs a **dictionary** with keys corresponding to each **task**.\n",
    "The keys map to the predictions for the task. Let's take a look at the output for the `liver` task. "
   ]
  },
  {
   "cell_type": "code",
   "execution_count": 17,
   "metadata": {},
   "outputs": [
    {
     "data": {
      "text/plain": [
       "tensor([[0.7053, 0.2947]], device='cuda:3', grad_fn=<SoftmaxBackward>)"
      ]
     },
     "execution_count": 17,
     "metadata": {},
     "output_type": "execute_result"
    }
   ],
   "source": [
    "output[\"liver\"]"
   ]
  },
  {
   "cell_type": "raw",
   "metadata": {},
   "source": [
    "output[\"liver\"] -> tensor([[0.9661, 0.0339]], ... )\n",
    "                              ^        ^\n",
    "                             (0)      (1)\n",
    "(0) probability there is NO abnormality in the liver\n",
    "(1) probability of abnormality in the liver"
   ]
  },
  {
   "cell_type": "markdown",
   "metadata": {},
   "source": [
    "Notice that the **targets** (i.e. labels) that we loaded before have a very similar structure as the output.  "
   ]
  },
  {
   "cell_type": "code",
   "execution_count": 18,
   "metadata": {},
   "outputs": [
    {
     "name": "stdout",
     "output_type": "stream",
     "text": [
      "targets is of type: <class 'dict'>.\n",
      "The keys of the dict are: dict_keys(['full', 'inguinal_lymph_node', 'left_lungs', 'carinal_lymph_node', 'cervical_lymph_node', 'paratracheal_lymph_node', 'right_lungs', 'pelvic_skeleton', 'axillary_lymph_node', 'iliac_lymph_node', 'supraclavicular_lymph_node', 'retroperitoneal_lymph_node', 'mouth', 'liver', 'abdominal_lymph_node', 'hilar_lymph_node', 'pelvis', 'spine', 'lungs', 'head', 'thoracic_lymph_node', 'neck', 'abdomen', 'skeleton', 'head_neck', 'chest'])\n"
     ]
    }
   ],
   "source": [
    "print(f\"targets is of type: {type(targets)}.\")\n",
    "print(f\"The keys of the dict are: {targets.keys()}\")"
   ]
  },
  {
   "cell_type": "code",
   "execution_count": 19,
   "metadata": {},
   "outputs": [
    {
     "data": {
      "text/plain": [
       "tensor([[0.9966, 0.0034]])"
      ]
     },
     "execution_count": 19,
     "metadata": {},
     "output_type": "execute_result"
    }
   ],
   "source": [
    "targets[\"liver\"]"
   ]
  },
  {
   "cell_type": "markdown",
   "metadata": {},
   "source": [
    "In this case the target for the liver match the output of the model. "
   ]
  },
  {
   "cell_type": "markdown",
   "metadata": {},
   "source": [
    "## How to score the model on a dataset of examples?\n",
    "What if we want to evaluate the model on a dataset of examples? For this we can use the `model.score` method."
   ]
  },
  {
   "cell_type": "code",
   "execution_count": 20,
   "metadata": {},
   "outputs": [],
   "source": [
    "metric_configs = [{'fn': 'accuracy'},\n",
    "           {'fn': 'roc_auc'},\n",
    "           {'fn': 'recall'},\n",
    "           {'fn': 'precision'},\n",
    "           {'fn': 'f1_score'}]"
   ]
  },
  {
   "cell_type": "code",
   "execution_count": 21,
   "metadata": {},
   "outputs": [
    {
     "name": "stderr",
     "output_type": "stream",
     "text": [
      "Validation\n",
      "100%|██████████| 200/200 [03:36<00:00,  1.16s/it]\n",
      "/home/eyuboglu/fdg-pet-ct/env/lib/python3.7/site-packages/sklearn/metrics/classification.py:1437: UndefinedMetricWarning: Precision is ill-defined and being set to 0.0 due to no predicted samples.\n",
      "  'precision', 'predicted', average, warn_for)\n",
      "/home/eyuboglu/fdg-pet-ct/env/lib/python3.7/site-packages/sklearn/metrics/classification.py:1437: UndefinedMetricWarning: F-score is ill-defined and being set to 0.0 due to no predicted samples.\n",
      "  'precision', 'predicted', average, warn_for)\n"
     ]
    }
   ],
   "source": [
    "metrics = model.score(dataloader, metric_configs=metric_configs)"
   ]
  },
  {
   "cell_type": "markdown",
   "metadata": {},
   "source": [
    "We can take a look and see how the model did for this particular subset of the test set on each of the tasks. "
   ]
  },
  {
   "cell_type": "code",
   "execution_count": 25,
   "metadata": {},
   "outputs": [
    {
     "data": {
      "text/plain": [
       "defaultdict(dict,\n",
       "            {'full': {'accuracy': 0.91,\n",
       "              'roc_auc': 0.8018925518925519,\n",
       "              'recall': 1.0,\n",
       "              'precision': 0.91,\n",
       "              'f1_score': 0.9528795811518325},\n",
       "             'inguinal_lymph_node': {'accuracy': 0.945,\n",
       "              'roc_auc': 0.9163059163059163,\n",
       "              'recall': 0.6363636363636364,\n",
       "              'precision': 0.5,\n",
       "              'f1_score': 0.56},\n",
       "             'left_lungs': {'accuracy': 0.915,\n",
       "              'roc_auc': 0.7625679347826086,\n",
       "              'recall': 0.0625,\n",
       "              'precision': 0.3333333333333333,\n",
       "              'f1_score': 0.10526315789473684},\n",
       "             'carinal_lymph_node': {'accuracy': 0.925,\n",
       "              'roc_auc': 0.9069293478260869,\n",
       "              'recall': 0.0625,\n",
       "              'precision': 1.0,\n",
       "              'f1_score': 0.11764705882352941},\n",
       "             'cervical_lymph_node': {'accuracy': 0.915,\n",
       "              'roc_auc': 0.7785278045644486,\n",
       "              'recall': 0.0,\n",
       "              'precision': 0.0,\n",
       "              'f1_score': 0.0},\n",
       "             'paratracheal_lymph_node': {'accuracy': 0.945,\n",
       "              'roc_auc': 0.9066666666666667,\n",
       "              'recall': 0.26666666666666666,\n",
       "              'precision': 1.0,\n",
       "              'f1_score': 0.4210526315789474},\n",
       "             'right_lungs': {'accuracy': 0.925,\n",
       "              'roc_auc': 0.8773873873873874,\n",
       "              'recall': 0.2,\n",
       "              'precision': 0.5,\n",
       "              'f1_score': 0.28571428571428575},\n",
       "             'pelvic_skeleton': {'accuracy': 0.885,\n",
       "              'roc_auc': 0.8064,\n",
       "              'recall': 0.08,\n",
       "              'precision': 1.0,\n",
       "              'f1_score': 0.14814814814814814},\n",
       "             'axillary_lymph_node': {'accuracy': 0.935,\n",
       "              'roc_auc': 0.9391666666666667,\n",
       "              'recall': 0.75,\n",
       "              'precision': 0.6521739130434783,\n",
       "              'f1_score': 0.6976744186046512},\n",
       "             'iliac_lymph_node': {'accuracy': 0.92,\n",
       "              'roc_auc': 0.6978463516554163,\n",
       "              'recall': 0.058823529411764705,\n",
       "              'precision': 1.0,\n",
       "              'f1_score': 0.1111111111111111},\n",
       "             'supraclavicular_lymph_node': {'accuracy': 0.91,\n",
       "              'roc_auc': 0.916971916971917,\n",
       "              'recall': 0.0,\n",
       "              'precision': 0.0,\n",
       "              'f1_score': 0.0},\n",
       "             'retroperitoneal_lymph_node': {'accuracy': 0.905,\n",
       "              'roc_auc': 0.7728990985751673,\n",
       "              'recall': 0.0,\n",
       "              'precision': 0.0,\n",
       "              'f1_score': 0.0},\n",
       "             'mouth': {'accuracy': 0.86,\n",
       "              'roc_auc': 0.855686274509804,\n",
       "              'recall': 0.13333333333333333,\n",
       "              'precision': 0.6666666666666666,\n",
       "              'f1_score': 0.2222222222222222},\n",
       "             'liver': {'accuracy': 0.87,\n",
       "              'roc_auc': 0.7300817160367723,\n",
       "              'recall': 0.5,\n",
       "              'precision': 0.4230769230769231,\n",
       "              'f1_score': 0.4583333333333333},\n",
       "             'abdominal_lymph_node': {'accuracy': 0.88,\n",
       "              'roc_auc': 0.7031125299281724,\n",
       "              'recall': 0.0,\n",
       "              'precision': 0.0,\n",
       "              'f1_score': 0.0},\n",
       "             'hilar_lymph_node': {'accuracy': 0.865,\n",
       "              'roc_auc': 0.8691928923142795,\n",
       "              'recall': 0.7037037037037037,\n",
       "              'precision': 0.5,\n",
       "              'f1_score': 0.5846153846153846},\n",
       "             'pelvis': {'accuracy': 0.8,\n",
       "              'roc_auc': 0.7866666666666666,\n",
       "              'recall': 0.4666666666666667,\n",
       "              'precision': 0.5675675675675675,\n",
       "              'f1_score': 0.5121951219512195},\n",
       "             'spine': {'accuracy': 0.79,\n",
       "              'roc_auc': 0.5644966847498494,\n",
       "              'recall': 0.0,\n",
       "              'precision': 0.0,\n",
       "              'f1_score': 0.0},\n",
       "             'lungs': {'accuracy': 0.84,\n",
       "              'roc_auc': 0.8302473707598874,\n",
       "              'recall': 0.37209302325581395,\n",
       "              'precision': 0.7619047619047619,\n",
       "              'f1_score': 0.5},\n",
       "             'head': {'accuracy': 0.67,\n",
       "              'roc_auc': 0.7579487179487179,\n",
       "              'recall': 0.07692307692307693,\n",
       "              'precision': 0.45454545454545453,\n",
       "              'f1_score': 0.13157894736842107},\n",
       "             'thoracic_lymph_node': {'accuracy': 0.88,\n",
       "              'roc_auc': 0.9049295774647887,\n",
       "              'recall': 0.6551724137931034,\n",
       "              'precision': 0.9047619047619048,\n",
       "              'f1_score': 0.7599999999999999},\n",
       "             'neck': {'accuracy': 0.735,\n",
       "              'roc_auc': 0.7539811912225705,\n",
       "              'recall': 0.2727272727272727,\n",
       "              'precision': 0.5357142857142857,\n",
       "              'f1_score': 0.3614457831325301},\n",
       "             'abdomen': {'accuracy': 0.75,\n",
       "              'roc_auc': 0.7792039693668429,\n",
       "              'recall': 0.5342465753424658,\n",
       "              'precision': 0.7090909090909091,\n",
       "              'f1_score': 0.6093750000000001},\n",
       "             'skeleton': {'accuracy': 0.565,\n",
       "              'roc_auc': 0.47968750000000004,\n",
       "              'recall': 0.325,\n",
       "              'precision': 0.4406779661016949,\n",
       "              'f1_score': 0.3741007194244604},\n",
       "             'head_neck': {'accuracy': 0.505,\n",
       "              'roc_auc': 0.4300523349436393,\n",
       "              'recall': 0.07608695652173914,\n",
       "              'precision': 0.3333333333333333,\n",
       "              'f1_score': 0.12389380530973453},\n",
       "             'chest': {'accuracy': 0.77,\n",
       "              'roc_auc': 0.8381000000000001,\n",
       "              'recall': 0.7,\n",
       "              'precision': 0.813953488372093,\n",
       "              'f1_score': 0.7526881720430109}})"
      ]
     },
     "execution_count": 25,
     "metadata": {},
     "output_type": "execute_result"
    }
   ],
   "source": [
    "metrics.metrics"
   ]
  },
  {
   "cell_type": "code",
   "execution_count": null,
   "metadata": {},
   "outputs": [],
   "source": []
  }
 ],
 "metadata": {
  "kernelspec": {
   "display_name": "Python 3",
   "language": "python",
   "name": "python3"
  },
  "language_info": {
   "codemirror_mode": {
    "name": "ipython",
    "version": 3
   },
   "file_extension": ".py",
   "mimetype": "text/x-python",
   "name": "python",
   "nbconvert_exporter": "python",
   "pygments_lexer": "ipython3",
   "version": "3.7.4"
  },
  "toc": {
   "base_numbering": 1,
   "nav_menu": {},
   "number_sections": true,
   "sideBar": true,
   "skip_h1_title": true,
   "title_cell": "Table of Contents",
   "title_sidebar": "Contents",
   "toc_cell": false,
   "toc_position": {
    "height": "791px",
    "left": "1428px",
    "top": "110px",
    "width": "252px"
   },
   "toc_section_display": true,
   "toc_window_display": true
  },
  "varInspector": {
   "cols": {
    "lenName": 16,
    "lenType": 16,
    "lenVar": 40
   },
   "kernels_config": {
    "python": {
     "delete_cmd_postfix": "",
     "delete_cmd_prefix": "del ",
     "library": "var_list.py",
     "varRefreshCmd": "print(var_dic_list())"
    },
    "r": {
     "delete_cmd_postfix": ") ",
     "delete_cmd_prefix": "rm(",
     "library": "var_list.r",
     "varRefreshCmd": "cat(var_dic_list()) "
    }
   },
   "types_to_exclude": [
    "module",
    "function",
    "builtin_function_or_method",
    "instance",
    "_Feature"
   ],
   "window_display": false
  }
 },
 "nbformat": 4,
 "nbformat_minor": 4
}
